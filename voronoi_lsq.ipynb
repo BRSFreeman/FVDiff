{
 "cells": [
  {
   "cell_type": "code",
   "execution_count": null,
   "id": "bdf58da3-c26a-4a02-9c9d-60c4179e5d75",
   "metadata": {},
   "outputs": [],
   "source": [
    "import numpy as np\n",
    "from numpy.linalg import norm, det, inv, LinAlgError, lstsq\n",
    "from scipy.spatial import Delaunay, Voronoi, voronoi_plot_2d\n",
    "from scipy.interpolate import LinearNDInterpolator\n",
    "from matplotlib import pyplot as plt\n",
    "\n",
    "from numba import jit, njit\n",
    "\n",
    "from tqdm import trange\n",
    "\n",
    "from greenGauss import gaussDiv, gaussGrad"
   ]
  },
  {
   "cell_type": "code",
   "execution_count": null,
   "id": "d9b32636-f43a-4e09-895a-a76b3f7182a7",
   "metadata": {},
   "outputs": [],
   "source": [
    "x_n = np.random.rand(5, 2)\n",
    "\n",
    "u_n = np.random.rand(5)\n",
    "\n",
    "pt = np.array([0.5, 0.5])\n",
    "\n",
    "dx = x_n - pt\n",
    "\n",
    "R = np.sqrt(np.sum(dx**2, axis=1))\n",
    "\n",
    "A = np.concatenate([R[:, np.newaxis], (R*dx.T).T], axis=1)\n",
    "b = (R*u_n.T).T\n",
    "\n",
    "x, _, _, _ = lstsq(A,b)\n"
   ]
  },
  {
   "cell_type": "code",
   "execution_count": null,
   "id": "1ed6343a-9cec-4275-af97-0858174eb4d7",
   "metadata": {},
   "outputs": [],
   "source": [
    "@njit\n",
    "def _lstsq_grad(points, vertices, q, pts, ridge, neighbours, pt):\n",
    "    \"\"\"calculate least squares gradient based on nearest neighbours\n",
    "       e.g. GG-LSQ https://doi.org/10.1186/s42774-019-0020-9\"\"\"\n",
    "    cells = np.array(list(set(pts) | set(neighbours)))\n",
    "\n",
    "    x_n = points[cells]\n",
    "\n",
    "    q_n = q[cells]\n",
    "\n",
    "    dx = x_n - pt\n",
    "\n",
    "    Rinv = 1/np.sqrt(np.sum(dx**2, axis=1))\n",
    "    \n",
    "    A = np.zeros((dx.shape[0], dx.shape[1]+1))\n",
    "    A[:, 0] = Rinv\n",
    "    A[:, 1:] = (Rinv*dx.T).T\n",
    "    b = (Rinv*q_n.T).T\n",
    "\n",
    "    x, _, _, _ = lstsq(A, b)\n",
    "\n",
    "    return x[1:]\n",
    "\n",
    "\n",
    "def face_grad(mesh, u, dim='2d'):\n",
    "    \n",
    "    n_regions = len(mesh.regions)\n",
    "    n_ridges = len(mesh.ridge_points)\n",
    "    n_points = len(mesh.points)\n",
    "\n",
    "    # collect neighbours of each point as a list of lists\n",
    "    neighbours = [[] for i in range(n_points)]\n",
    "    n_neighbours = np.zeros(n_points)\n",
    "    for points in mesh.ridge_points:\n",
    "        neighbours[points[0]].append(points[1])\n",
    "        neighbours[points[1]].append(points[0])\n",
    "        n_neighbours[points[0]] += 1\n",
    "        n_neighbours[points[1]] += 1\n",
    "\n",
    "    # iterate over faces to calculate flux in or out\n",
    "    out = np.zeros((n_ridges, mesh.points.shape[1]))\n",
    "\n",
    "    for ridge in trange(n_ridges):\n",
    "        vertices = mesh.ridge_vertices[ridge]\n",
    "        \n",
    "        # exclude infinite vertices\n",
    "        if -1 in vertices:\n",
    "            continue\n",
    "\n",
    "        point_idx = mesh.ridge_points[ridge]\n",
    "        \n",
    "        face_centr = mean(mesh.vertices[vertices], axis=0)  # centroid of current face\n",
    "\n",
    "        shared_neighbours = list(\n",
    "            set(neighbours[point_idx[0]])\n",
    "            & set(neighbours[point_idx[1]])\n",
    "        )\n",
    "        if len(shared_neighbours) == 0:\n",
    "            shared_neighbours = list(\n",
    "                (set(neighbours[point_idx[0]]) - {point_idx[1]})\n",
    "                | (set(neighbours[point_idx[1]]) - {point_idx[0]})\n",
    "            )\n",
    "        \n",
    "        out[ridge] = _lstsq_grad(\n",
    "            mesh.points,\n",
    "            mesh.vertices,\n",
    "            u,\n",
    "            point_idx,\n",
    "            ridge,\n",
    "            shared_neighbours,\n",
    "            face_centr\n",
    "        )\n",
    "\n",
    "    return out\n",
    "\n",
    "\n",
    "def _establish_neighbours(neighbours, pts):\n",
    "    shared_neighbours = list(\n",
    "        (set(neighbours[pts[0]])\n",
    "        & set(neighbours[pts[1]]))\n",
    "    )\n",
    "    if len(shared_neighbours) == 0:\n",
    "        shared_neighbours = list(\n",
    "            (set(neighbours[pts[0]]) - {pts[1]})\n",
    "            | (set(neighbours[pts[1]]) - {pts[0]})\n",
    "        )\n",
    "    return shared_neighbours\n",
    "\n",
    "\n",
    "@njit\n",
    "def mean(x, axis=0):\n",
    "    return np.sum(x, axis) / x.shape[axis]\n",
    "\n"
   ]
  },
  {
   "cell_type": "markdown",
   "id": "407b7477-cf61-478b-8cb9-e4a8b5d9037c",
   "metadata": {},
   "source": [
    "## 2D gradient test\n",
    "\n",
    "Evaluate function with known gradient"
   ]
  },
  {
   "cell_type": "code",
   "execution_count": null,
   "id": "f4ec6eb0-7dcd-4b8e-a27a-e7c0a224a4e9",
   "metadata": {
    "tags": []
   },
   "outputs": [],
   "source": [
    "x_raw = np.linspace(-1, 1, 21)\n",
    "y_raw = np.linspace(-1, 1, 21)\n",
    "\n",
    "xx, yy = np.meshgrid(x_raw, y_raw)\n",
    "\n",
    "xy = np.transpose([xx.flatten(), yy.flatten()])\n",
    "R = np.array([\n",
    "    [np.cos(np.pi/4), np.sin(np.pi/4)],\n",
    "    [-np.sin(np.pi/4), np.cos(np.pi/4)],\n",
    "])\n",
    "\n",
    "xy = xy@R\n",
    "\n",
    "mesh = Voronoi(xy)"
   ]
  },
  {
   "cell_type": "code",
   "execution_count": null,
   "id": "3c4d10de-9b44-4da1-887e-7e2721d46a6d",
   "metadata": {},
   "outputs": [],
   "source": [
    "plt.figure()\n",
    "voronoi_plot_2d(mesh,)\n",
    "plt.gca().set_aspect('equal')\n"
   ]
  },
  {
   "cell_type": "code",
   "execution_count": null,
   "id": "bd282025-60e8-4f87-81d8-c27fd4efcb95",
   "metadata": {
    "tags": []
   },
   "outputs": [],
   "source": [
    "n_ridges = len(mesh.ridge_vertices)\n",
    "face_xy = np.zeros((n_ridges, 2))\n",
    "\n",
    "for i in range(n_ridges):\n",
    "    vertices = [vertex for vertex in mesh.ridge_vertices[i] if vertex!=-1]\n",
    "    face_xy[i] = np.mean(mesh.vertices[vertices], axis=0)\n",
    "\n",
    "x, y = face_xy.T\n",
    "\n",
    "p = xy[:,0]*xy[:,1]\n",
    "grad_p = np.stack([y, x], axis=1)\n"
   ]
  },
  {
   "cell_type": "code",
   "execution_count": null,
   "id": "38cd34c9-5394-410b-a3bf-d5edff350f45",
   "metadata": {},
   "outputs": [],
   "source": [
    "dp = face_grad(mesh,p)"
   ]
  },
  {
   "cell_type": "code",
   "execution_count": null,
   "id": "2a6ef038-8a7d-4e96-9226-e39c7299e315",
   "metadata": {
    "tags": []
   },
   "outputs": [],
   "source": [
    "err = dp - grad_p\n",
    "\n",
    "fig, ax = plt.subplots(2,3, sharex=True, sharey=True)\n",
    "\n",
    "tcf = ax[0,0].tricontourf(x, y, grad_p[:, 0])\n",
    "fig.colorbar(tcf, ax=ax[0,0], shrink=0.5)\n",
    "\n",
    "tcf = ax[1,0].tricontourf(x, y, grad_p[:, 1])\n",
    "fig.colorbar(tcf, ax=ax[1,0], shrink=0.5)\n",
    "\n",
    "tcf = ax[0,1].tricontourf(x, y, dp[:, 0])\n",
    "fig.colorbar(tcf, ax=ax[0,1], shrink=0.5)\n",
    "\n",
    "tcf = ax[1,1].tricontourf(x, y, dp[:, 1])\n",
    "fig.colorbar(tcf, ax=ax[1,1], shrink=0.5)\n",
    "\n",
    "tcf = ax[0,2].tricontourf(x, y, err[:, 0])\n",
    "fig.colorbar(tcf, ax=ax[0,2], shrink=0.5)\n",
    "\n",
    "tcf = ax[1,2].tricontourf(x, y, err[:, 1])\n",
    "fig.colorbar(tcf, ax=ax[1,2], shrink=0.5)\n",
    "\n",
    "for axes in ax:\n",
    "    for axax in axes:\n",
    "        \n",
    "        axax.set_aspect('equal')\n",
    "fig.tight_layout()"
   ]
  },
  {
   "cell_type": "code",
   "execution_count": null,
   "id": "b073bae1-9174-4ca4-932a-45c3cd1decf8",
   "metadata": {},
   "outputs": [],
   "source": [
    "err_points = norm(err, axis=1) > 1e-2"
   ]
  },
  {
   "cell_type": "code",
   "execution_count": null,
   "id": "5be9fbac-a311-4b56-ae61-29306a1f43ec",
   "metadata": {},
   "outputs": [],
   "source": [
    "_ = plt.hist(err.flatten(), bins=100)"
   ]
  },
  {
   "cell_type": "code",
   "execution_count": null,
   "id": "3483d902-3de8-4b0d-925c-96c5db6396bc",
   "metadata": {},
   "outputs": [],
   "source": [
    "from matplotlib.colors import LogNorm\n",
    "\n",
    "plt.tricontourf(x[inner_pts],  y[inner_pts], np.abs((pt_du[inner_pts] - divU[inner_pts])),\n",
    "                #norm=LogNorm(),\n",
    "                levels=16)\n",
    "plt.colorbar()\n",
    "xlim = plt.xlim()\n",
    "ylim = plt.ylim()\n",
    "plt.plot(mesh.vertices[:, 0], mesh.vertices[:, 1], ',', color='orange')\n",
    "\n",
    "plt.xlim(xlim)\n",
    "plt.ylim(ylim)"
   ]
  },
  {
   "cell_type": "markdown",
   "id": "256d8eba-bff4-4361-bb50-f603b0b0aac4",
   "metadata": {},
   "source": [
    "## 3D divergence test"
   ]
  },
  {
   "cell_type": "code",
   "execution_count": null,
   "id": "0aa24245-3574-41fa-96d5-a50bf072a5db",
   "metadata": {},
   "outputs": [],
   "source": [
    "x_raw = np.linspace(-1, 1, 41)\n",
    "y_raw = np.linspace(-1, 1, 41)\n",
    "z_raw = np.linspace(-1, 1, 41)\n",
    "\n",
    "xx, yy, zz = np.meshgrid(x_raw, y_raw, z_raw)\n",
    "\n",
    "xyz = np.transpose([xx.flatten(), yy.flatten(), zz.flatten()])\n",
    "R = np.array([\n",
    "    [np.cos(np.pi/4), np.sin(np.pi/4), 0],\n",
    "    [-np.sin(np.pi/4), np.cos(np.pi/4), 0],\n",
    "    [0, 0, 1]\n",
    "])\n",
    "\n",
    "xyz = xyz@R\n",
    "\n",
    "mesh = Voronoi(xyz)"
   ]
  },
  {
   "cell_type": "code",
   "execution_count": null,
   "id": "694c4837-318c-4620-9601-52a56bae902e",
   "metadata": {
    "tags": []
   },
   "outputs": [],
   "source": [
    "n_ridges = len(mesh.ridge_vertices)\n",
    "face_xyz = np.zeros((n_ridges, 3))\n",
    "\n",
    "for i in range(n_ridges):\n",
    "    vertices = [vertex for vertex in mesh.ridge_vertices[i] if vertex!=-1]\n",
    "    face_xyz[i] = np.mean(mesh.vertices[vertices], axis=0)\n",
    "\n",
    "x, y, z = face_xyz.T\n",
    "\n",
    "p = xyz[:,0]*xyz[:,1]*xyz[:,2]\n",
    "grad_p = np.stack([y*z, x*z, x*y], axis=1)\n",
    "\n",
    "dp = face_grad(mesh,p)"
   ]
  },
  {
   "cell_type": "code",
   "execution_count": null,
   "id": "d9e5004e-1089-42e5-a631-f62e7eb8f822",
   "metadata": {},
   "outputs": [],
   "source": [
    "inner_regions = np.array([i for i, region in enumerate(mesh.regions) if -1 not in region])\n",
    "\n",
    "inner_pts = [-1 not in mesh.regions[region] for region in mesh.point_region]"
   ]
  },
  {
   "cell_type": "code",
   "execution_count": null,
   "id": "e078e466-478d-4fc4-ae90-53965740288f",
   "metadata": {},
   "outputs": [],
   "source": [
    "err = dp - grad_p\n",
    "\n",
    "err_points = norm(err, axis=1) > 1e-2"
   ]
  },
  {
   "cell_type": "code",
   "execution_count": null,
   "id": "1dedcfc5-223c-44c8-8751-0d3859f64bd6",
   "metadata": {},
   "outputs": [],
   "source": [
    "_ = plt.hist(grad_p, bins=100)"
   ]
  },
  {
   "cell_type": "code",
   "execution_count": null,
   "id": "e6df1082-e5d9-4b48-a24a-3c7535769fc5",
   "metadata": {},
   "outputs": [],
   "source": [
    "n_faces = 0\n",
    "n_outer = 0\n",
    "for i in range(n_ridges):\n",
    "    n_faces += 1\n",
    "    if -1 in mesh.ridge_vertices[i]:\n",
    "        n_outer += 1\n",
    "\n",
    "_ = plt.hist(np.log10(np.abs(err)+1e-6), bins=100, cumulative=True, density=True)\n",
    "plt.axhline(1 - n_outer / n_faces)"
   ]
  }
 ],
 "metadata": {
  "kernelspec": {
   "display_name": "Python 3",
   "language": "python",
   "name": "python3"
  },
  "language_info": {
   "codemirror_mode": {
    "name": "ipython",
    "version": 3
   },
   "file_extension": ".py",
   "mimetype": "text/x-python",
   "name": "python",
   "nbconvert_exporter": "python",
   "pygments_lexer": "ipython3",
   "version": "3.7.10"
  }
 },
 "nbformat": 4,
 "nbformat_minor": 5
}

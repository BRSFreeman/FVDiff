{
 "cells": [
  {
   "cell_type": "code",
   "execution_count": null,
   "id": "bdf58da3-c26a-4a02-9c9d-60c4179e5d75",
   "metadata": {},
   "outputs": [],
   "source": [
    "import numpy as np\n",
    "from numpy.linalg import norm, det, inv, LinAlgError\n",
    "from scipy.spatial import Delaunay, Voronoi, voronoi_plot_2d\n",
    "from scipy.interpolate import LinearNDInterpolator\n",
    "from matplotlib import pyplot as plt\n",
    "\n",
    "from numba import jit, njit\n",
    "\n",
    "from tqdm import trange\n",
    "\n",
    "from greenGauss import gaussDiv, gaussGrad, gaussLaplacian"
   ]
  },
  {
   "cell_type": "code",
   "execution_count": null,
   "id": "7c63cbaa-56f2-47d8-b971-8ab604f04524",
   "metadata": {},
   "outputs": [],
   "source": [
    "%matplotlib inline"
   ]
  },
  {
   "cell_type": "markdown",
   "id": "407b7477-cf61-478b-8cb9-e4a8b5d9037c",
   "metadata": {},
   "source": [
    "## 2D divergence test\n",
    "\n",
    "Evaluate function with known divergence"
   ]
  },
  {
   "cell_type": "code",
   "execution_count": null,
   "id": "f4ec6eb0-7dcd-4b8e-a27a-e7c0a224a4e9",
   "metadata": {
    "tags": []
   },
   "outputs": [],
   "source": [
    "x = np.linspace(-1, 1, 21)\n",
    "y = np.linspace(-1, 1, 21)\n",
    "\n",
    "xx, yy = np.meshgrid(x, y)\n",
    "\n",
    "xy = np.transpose([xx.flatten(), yy.flatten()])\n",
    "R = np.array([\n",
    "    [np.cos(np.pi/4), np.sin(np.pi/4)],\n",
    "    [-np.sin(np.pi/4), np.cos(np.pi/4)],\n",
    "])\n",
    "\n",
    "xy = xy@R\n",
    "\n",
    "mesh = Voronoi(xy)"
   ]
  },
  {
   "cell_type": "code",
   "execution_count": null,
   "id": "3c4d10de-9b44-4da1-887e-7e2721d46a6d",
   "metadata": {},
   "outputs": [],
   "source": [
    "plt.figure()\n",
    "voronoi_plot_2d(mesh,)\n",
    "plt.gca().set_aspect('equal')\n"
   ]
  },
  {
   "cell_type": "code",
   "execution_count": null,
   "id": "bd282025-60e8-4f87-81d8-c27fd4efcb95",
   "metadata": {
    "tags": []
   },
   "outputs": [],
   "source": [
    "x, y = xy.T\n",
    "\n",
    "u = np.transpose(\n",
    "    [x*y, -1/2*y**2]\n",
    ")\n",
    "\n",
    "divU = np.zeros(len(u))"
   ]
  },
  {
   "cell_type": "code",
   "execution_count": null,
   "id": "35cc06a1-c210-4b97-81e7-0d0b8b4f859c",
   "metadata": {},
   "outputs": [],
   "source": [
    "inner_regions = np.array([i for i, region in enumerate(mesh.regions) if -1 not in region])\n",
    "\n",
    "inner_pts = [-1 not in mesh.regions[region] for region in mesh.point_region]"
   ]
  },
  {
   "cell_type": "code",
   "execution_count": null,
   "id": "7fb63095-3bab-4633-ab88-b0d062fcc6f6",
   "metadata": {},
   "outputs": [],
   "source": [
    "div_engine = gaussDiv(mesh, '2d')"
   ]
  },
  {
   "cell_type": "code",
   "execution_count": null,
   "id": "e91b78f9-75ed-4da7-8b64-7aa8841f7ec1",
   "metadata": {},
   "outputs": [],
   "source": [
    "du = div_engine.div(u)\n",
    "\n",
    "pt_du = du[mesh.point_region]"
   ]
  },
  {
   "cell_type": "markdown",
   "id": "ff2458bf-c4cc-41cd-a278-2bb63bf25608",
   "metadata": {},
   "source": [
    "## 2D gradient test"
   ]
  },
  {
   "cell_type": "code",
   "execution_count": null,
   "id": "f3a71f1b-e211-49b2-a44a-3153ee8ee567",
   "metadata": {},
   "outputs": [],
   "source": [
    "p = x*y\n",
    "grad_p = np.stack([y, x], axis=1)\n"
   ]
  },
  {
   "cell_type": "code",
   "execution_count": null,
   "id": "a778f26c-0057-427d-a017-c58fc315a883",
   "metadata": {},
   "outputs": [],
   "source": [
    "grad = gaussGrad(mesh, dim='2d')"
   ]
  },
  {
   "cell_type": "code",
   "execution_count": null,
   "id": "ef77bb68-4b3b-4035-827f-cf7da408fb18",
   "metadata": {},
   "outputs": [],
   "source": [
    "g_p = grad.grad(p)"
   ]
  },
  {
   "cell_type": "code",
   "execution_count": null,
   "id": "5be9fbac-a311-4b56-ae61-29306a1f43ec",
   "metadata": {},
   "outputs": [],
   "source": [
    "err = g_p[mesh.point_region][inner_pts] - grad_p[inner_pts]\n",
    "\n",
    "_ = plt.hist(err.flatten())"
   ]
  },
  {
   "cell_type": "code",
   "execution_count": null,
   "id": "0382a098-c444-4656-bd06-8c7b3649c8cb",
   "metadata": {},
   "outputs": [],
   "source": [
    "plt.figure()\n",
    "plt.tricontourf(x, y, grad_p[:, 0])\n",
    "plt.colorbar()\n",
    "\n",
    "plt.figure()\n",
    "plt.tricontourf(x, y, grad_p[:, 1])\n",
    "plt.colorbar()\n"
   ]
  },
  {
   "cell_type": "code",
   "execution_count": null,
   "id": "ca1aac1a-f0f7-4224-aeea-33946b8f21fc",
   "metadata": {},
   "outputs": [],
   "source": [
    "plt.figure()\n",
    "plt.tricontourf(x[inner_pts], y[inner_pts], err[:, 0])\n",
    "plt.colorbar()\n",
    "plt.figure()\n",
    "plt.tricontourf(x[inner_pts], y[inner_pts], err[:, 1])\n",
    "plt.colorbar()"
   ]
  },
  {
   "cell_type": "code",
   "execution_count": null,
   "id": "3483d902-3de8-4b0d-925c-96c5db6396bc",
   "metadata": {},
   "outputs": [],
   "source": [
    "from matplotlib.colors import LogNorm\n",
    "\n",
    "plt.tricontourf(\n",
    "    x[inner_pts],\n",
    "    y[inner_pts],\n",
    "    np.abs((pt_du[inner_pts] - divU[inner_pts])),\n",
    "    levels=16\n",
    ")\n",
    "plt.colorbar()\n",
    "xlim = plt.xlim()\n",
    "ylim = plt.ylim()\n",
    "plt.plot(\n",
    "    mesh.vertices[:, 0],\n",
    "    mesh.vertices[:, 1],\n",
    "    ',',\n",
    "    color='orange'\n",
    ")\n",
    "\n",
    "plt.xlim(xlim)\n",
    "plt.ylim(ylim)"
   ]
  },
  {
   "cell_type": "markdown",
   "id": "00c70cfb-daac-42f8-8e2d-6832a386fdc4",
   "metadata": {},
   "source": [
    "## 2D laplacian test"
   ]
  },
  {
   "cell_type": "code",
   "execution_count": null,
   "id": "7d1364a5-99ce-442f-9728-6c5c33cbf17d",
   "metadata": {},
   "outputs": [],
   "source": [
    "q = x**2*y\n",
    "\n",
    "lap_q = 2*y\n"
   ]
  },
  {
   "cell_type": "code",
   "execution_count": null,
   "id": "bacdf7b3-6ca0-4998-98e5-754e5ba22d7b",
   "metadata": {},
   "outputs": [],
   "source": [
    "laplacian = gaussLaplacian(mesh, dim='2d')\n",
    "\n",
    "lq = laplacian.laplace(q)\n",
    "\n",
    "pt_lq = lq[mesh.point_region]"
   ]
  },
  {
   "cell_type": "code",
   "execution_count": null,
   "id": "22e730ea-1d39-4290-aa74-ee1047c8ab35",
   "metadata": {},
   "outputs": [],
   "source": [
    "l_err = pt_lq[inner_pts] - lap_q[inner_pts]"
   ]
  },
  {
   "cell_type": "code",
   "execution_count": null,
   "id": "612f147a-080e-4569-837b-becffbf630f0",
   "metadata": {},
   "outputs": [],
   "source": [
    "plt.figure()\n",
    "plt.tricontourf(\n",
    "    x[inner_pts],\n",
    "    y[inner_pts],\n",
    "    pt_lq[inner_pts],\n",
    "    levels=16\n",
    ")\n",
    "plt.colorbar()\n",
    "plt.figure()\n",
    "plt.tricontourf(\n",
    "    x[inner_pts],\n",
    "    y[inner_pts],\n",
    "    l_err,\n",
    "    levels=16\n",
    ")\n",
    "plt.colorbar()\n"
   ]
  },
  {
   "cell_type": "markdown",
   "id": "256d8eba-bff4-4361-bb50-f603b0b0aac4",
   "metadata": {},
   "source": [
    "## 3D divergence test"
   ]
  },
  {
   "cell_type": "code",
   "execution_count": null,
   "id": "0aa24245-3574-41fa-96d5-a50bf072a5db",
   "metadata": {},
   "outputs": [],
   "source": [
    "x = np.linspace(-1, 1, 21)\n",
    "y = np.linspace(-1, 1, 21)\n",
    "z = np.linspace(-1, 1, 21)\n",
    "\n",
    "xx, yy, zz = np.meshgrid(x, y, z)\n",
    "\n",
    "xyz = np.transpose([xx.flatten(), yy.flatten(), zz.flatten()])\n",
    "R = np.array([\n",
    "    [np.cos(np.pi/4), np.sin(np.pi/4), 0],\n",
    "    [-np.sin(np.pi/4), np.cos(np.pi/4), 0],\n",
    "    [0, 0, 1]\n",
    "])\n",
    "\n",
    "xyz = xyz@R\n",
    "\n",
    "mesh = Voronoi(xyz)"
   ]
  },
  {
   "cell_type": "code",
   "execution_count": null,
   "id": "694c4837-318c-4620-9601-52a56bae902e",
   "metadata": {
    "tags": []
   },
   "outputs": [],
   "source": [
    "x, y, z = xyz.T\n",
    "\n",
    "u = np.transpose([\n",
    "    x*y + x*z,\n",
    "    -1/2*y**2,\n",
    "    x**2 + y**2 - 1/2*z**2\n",
    "])\n",
    "\n",
    "divU = np.zeros(len(u))"
   ]
  },
  {
   "cell_type": "code",
   "execution_count": null,
   "id": "d9e5004e-1089-42e5-a631-f62e7eb8f822",
   "metadata": {},
   "outputs": [],
   "source": [
    "inner_regions = np.array([\n",
    "    i \n",
    "    for i, region in enumerate(mesh.regions)\n",
    "    if -1 not in region\n",
    "])\n",
    "\n",
    "inner_pts = [\n",
    "    -1 not in mesh.regions[region]\n",
    "    for region in mesh.point_region\n",
    "]"
   ]
  },
  {
   "cell_type": "code",
   "execution_count": null,
   "id": "9a3c6972-b848-4c9c-89fc-4ead3a6d407f",
   "metadata": {},
   "outputs": [],
   "source": [
    "div3 = gaussDiv(mesh, dim='3d')\n"
   ]
  },
  {
   "cell_type": "code",
   "execution_count": null,
   "id": "094a8998-f628-4b22-b1c6-a3588598a85e",
   "metadata": {},
   "outputs": [],
   "source": [
    "_ = plt.hist(div3.vol, bins=100)"
   ]
  },
  {
   "cell_type": "code",
   "execution_count": null,
   "id": "c35b6044-bc0c-460e-84d7-bfb8ea50e194",
   "metadata": {},
   "outputs": [],
   "source": [
    "du = div3.div(u)\n",
    "\n",
    "pt_du = du[mesh.point_region]"
   ]
  },
  {
   "cell_type": "code",
   "execution_count": null,
   "id": "8bc7b71b-e496-4901-a2db-d626dc049323",
   "metadata": {},
   "outputs": [],
   "source": [
    "_ = plt.hist(np.log10(np.abs(pt_du[inner_pts])+1e-15), bins=100, cumulative=True)"
   ]
  },
  {
   "cell_type": "markdown",
   "id": "a7035f0e-7281-4d9c-97d8-461febf1b553",
   "metadata": {},
   "source": [
    "## 3D gradient test"
   ]
  },
  {
   "cell_type": "code",
   "execution_count": null,
   "id": "8b9e6ddf-f892-4379-8424-edea7ac713d4",
   "metadata": {},
   "outputs": [],
   "source": [
    "p = x*y*z\n",
    "grad_p = np.vstack([\n",
    "    y*z,\n",
    "    x*z,\n",
    "    x*y\n",
    "]).T"
   ]
  },
  {
   "cell_type": "code",
   "execution_count": null,
   "id": "892e7bbf-6331-46ed-98d1-4286a1a66e0f",
   "metadata": {},
   "outputs": [],
   "source": [
    "grad = gaussGrad(mesh, '3d')"
   ]
  },
  {
   "cell_type": "code",
   "execution_count": null,
   "id": "d19458cd-133e-4461-9dc2-e1c21b6c873f",
   "metadata": {},
   "outputs": [],
   "source": [
    "gp_est = grad.grad(p)"
   ]
  },
  {
   "cell_type": "code",
   "execution_count": null,
   "id": "72dd2bf8-d668-4c95-8228-6248ae7ac611",
   "metadata": {},
   "outputs": [],
   "source": [
    "gp_pts = gp_est[mesh.point_region]"
   ]
  },
  {
   "cell_type": "code",
   "execution_count": null,
   "id": "da7aba0b-d8e2-44e7-a14c-a7ede1a503cf",
   "metadata": {},
   "outputs": [],
   "source": [
    "err = grad_p[inner_pts] - gp_pts[inner_pts]"
   ]
  },
  {
   "cell_type": "code",
   "execution_count": null,
   "id": "1dedcfc5-223c-44c8-8751-0d3859f64bd6",
   "metadata": {},
   "outputs": [],
   "source": [
    "_ = plt.hist(grad_p, bins=100)"
   ]
  },
  {
   "cell_type": "code",
   "execution_count": null,
   "id": "37a361f0-f92d-4606-bba8-d1eb83de203f",
   "metadata": {},
   "outputs": [],
   "source": [
    "_ = plt.hist(gp_pts[inner_pts], bins=100)"
   ]
  },
  {
   "cell_type": "code",
   "execution_count": null,
   "id": "e6df1082-e5d9-4b48-a24a-3c7535769fc5",
   "metadata": {},
   "outputs": [],
   "source": [
    "_ = plt.hist(np.log10(np.abs(err)+1e-6), bins=100)"
   ]
  },
  {
   "cell_type": "markdown",
   "id": "7e2fe9c0-d4f6-4707-bbd6-9737322d61cc",
   "metadata": {},
   "source": [
    "## 3D laplacian"
   ]
  },
  {
   "cell_type": "code",
   "execution_count": null,
   "id": "28df31b4-d282-4e12-8576-733b40ed36cb",
   "metadata": {},
   "outputs": [],
   "source": [
    "q = x**2*y*z\n",
    "lap_q = 2*y*z"
   ]
  },
  {
   "cell_type": "code",
   "execution_count": null,
   "id": "ff2391f0-b83a-4d52-bf20-f464e729f6e1",
   "metadata": {},
   "outputs": [],
   "source": [
    "lap = gaussLaplacian(mesh, '3d')\n",
    "\n",
    "lp_est = lap(q)\n",
    "\n",
    "pt_lq = lp_est[mesh.point_region]"
   ]
  },
  {
   "cell_type": "code",
   "execution_count": null,
   "id": "79e317da-11a8-414d-9622-f5f621bf04e2",
   "metadata": {},
   "outputs": [],
   "source": [
    "l_err = pt_lq[inner_pts] - lap_q[inner_pts]"
   ]
  },
  {
   "cell_type": "code",
   "execution_count": null,
   "id": "418d3eb6-ede3-489e-a0d6-8734c6358e51",
   "metadata": {},
   "outputs": [],
   "source": [
    "_ = plt.hist(l_err, bins=100)"
   ]
  },
  {
   "cell_type": "code",
   "execution_count": null,
   "id": "f620e01b-398b-4f9d-8f88-f4c87e9d87a5",
   "metadata": {},
   "outputs": [],
   "source": []
  }
 ],
 "metadata": {
  "kernelspec": {
   "display_name": "Python 3",
   "language": "python",
   "name": "python3"
  },
  "language_info": {
   "codemirror_mode": {
    "name": "ipython",
    "version": 3
   },
   "file_extension": ".py",
   "mimetype": "text/x-python",
   "name": "python",
   "nbconvert_exporter": "python",
   "pygments_lexer": "ipython3",
   "version": "3.7.10"
  }
 },
 "nbformat": 4,
 "nbformat_minor": 5
}
